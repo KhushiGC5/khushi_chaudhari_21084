{
  "nbformat": 4,
  "nbformat_minor": 0,
  "metadata": {
    "colab": {
      "provenance": [],
      "gpuType": "T4"
    },
    "kernelspec": {
      "name": "python3",
      "display_name": "Python 3"
    },
    "language_info": {
      "name": "python"
    },
    "accelerator": "GPU"
  },
  "cells": [
    {
      "cell_type": "code",
      "execution_count": 1,
      "metadata": {
        "colab": {
          "base_uri": "https://localhost:8080/"
        },
        "id": "KO6JSD3MSFZJ",
        "outputId": "c0ef6d3b-6a3b-4592-9eed-61e9a42b7fd2"
      },
      "outputs": [
        {
          "output_type": "stream",
          "name": "stdout",
          "text": [
            "Downloading data from https://storage.googleapis.com/tensorflow/tf-keras-datasets/mnist.npz\n",
            "11490434/11490434 [==============================] - 0s 0us/step\n",
            "Epoch 1/10\n",
            "375/375 [==============================] - 4s 4ms/step - loss: 0.3119 - accuracy: 0.9114 - val_loss: 0.1463 - val_accuracy: 0.9575\n",
            "Epoch 2/10\n",
            "375/375 [==============================] - 1s 4ms/step - loss: 0.1145 - accuracy: 0.9657 - val_loss: 0.1203 - val_accuracy: 0.9622\n",
            "Epoch 3/10\n",
            "375/375 [==============================] - 2s 5ms/step - loss: 0.0745 - accuracy: 0.9766 - val_loss: 0.0936 - val_accuracy: 0.9718\n",
            "Epoch 4/10\n",
            "375/375 [==============================] - 1s 4ms/step - loss: 0.0518 - accuracy: 0.9847 - val_loss: 0.0821 - val_accuracy: 0.9753\n",
            "Epoch 5/10\n",
            "375/375 [==============================] - 2s 4ms/step - loss: 0.0381 - accuracy: 0.9882 - val_loss: 0.0849 - val_accuracy: 0.9764\n",
            "Epoch 6/10\n",
            "375/375 [==============================] - 1s 4ms/step - loss: 0.0301 - accuracy: 0.9903 - val_loss: 0.0779 - val_accuracy: 0.9793\n",
            "Epoch 7/10\n",
            "375/375 [==============================] - 1s 4ms/step - loss: 0.0238 - accuracy: 0.9916 - val_loss: 0.0869 - val_accuracy: 0.9774\n",
            "Epoch 8/10\n",
            "375/375 [==============================] - 1s 4ms/step - loss: 0.0199 - accuracy: 0.9935 - val_loss: 0.0803 - val_accuracy: 0.9791\n",
            "Epoch 9/10\n",
            "375/375 [==============================] - 1s 4ms/step - loss: 0.0180 - accuracy: 0.9942 - val_loss: 0.1002 - val_accuracy: 0.9752\n",
            "Epoch 10/10\n",
            "375/375 [==============================] - 2s 4ms/step - loss: 0.0183 - accuracy: 0.9941 - val_loss: 0.0884 - val_accuracy: 0.9790\n",
            "313/313 [==============================] - 1s 2ms/step - loss: 0.0839 - accuracy: 0.9788\n",
            "Test Accuracy: 0.9787999987602234\n"
          ]
        }
      ],
      "source": [
        "import tensorflow as tf\n",
        "from tensorflow.keras import layers, models\n",
        "from tensorflow.keras.datasets import mnist\n",
        "from tensorflow.keras.utils import to_categorical\n",
        "from sklearn.model_selection import train_test_split\n",
        "from sklearn.preprocessing import StandardScaler\n",
        "\n",
        "# Load and preprocess MNIST dataset\n",
        "(X_train, y_train), (X_test, y_test) = mnist.load_data()\n",
        "\n",
        "# Reshape and normalize input images\n",
        "X_train = X_train.reshape(-1, 28*28).astype('float32') / 255.0\n",
        "X_test = X_test.reshape(-1, 28*28).astype('float32') / 255.0\n",
        "\n",
        "# One-hot encode target labels\n",
        "y_train = to_categorical(y_train)\n",
        "y_test = to_categorical(y_test)\n",
        "\n",
        "# Split training data into training and validation sets\n",
        "X_train, X_val, y_train, y_val = train_test_split(X_train, y_train, test_size=0.2, random_state=42)\n",
        "\n",
        "# Define the neural network architecture\n",
        "model = models.Sequential([\n",
        "    layers.Dense(256, activation='relu', input_shape=(28*28,)),\n",
        "    layers.Dense(128, activation='relu'),\n",
        "    layers.Dense(64, activation='relu'),\n",
        "    layers.Dense(10, activation='softmax')\n",
        "])\n",
        "\n",
        "# Compile the model\n",
        "model.compile(optimizer='adam',\n",
        "              loss='categorical_crossentropy',\n",
        "              metrics=['accuracy'])\n",
        "\n",
        "# Train the model\n",
        "history = model.fit(X_train, y_train,\n",
        "                    epochs=10,\n",
        "                    batch_size=128,\n",
        "                    validation_data=(X_val, y_val))\n",
        "\n",
        "# Evaluate the model on test data\n",
        "test_loss, test_accuracy = model.evaluate(X_test, y_test)\n",
        "print(\"Test Accuracy:\", test_accuracy)"
      ]
    },
    {
      "cell_type": "code",
      "source": [],
      "metadata": {
        "id": "AK3I2AjnSLLI"
      },
      "execution_count": null,
      "outputs": []
    }
  ]
}