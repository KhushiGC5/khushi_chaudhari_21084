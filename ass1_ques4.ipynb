{
  "nbformat": 4,
  "nbformat_minor": 0,
  "metadata": {
    "colab": {
      "provenance": [],
      "gpuType": "T4"
    },
    "kernelspec": {
      "name": "python3",
      "display_name": "Python 3"
    },
    "language_info": {
      "name": "python"
    },
    "accelerator": "GPU"
  },
  "cells": [
    {
      "cell_type": "code",
      "execution_count": 3,
      "metadata": {
        "colab": {
          "base_uri": "https://localhost:8080/"
        },
        "id": "LmxyqHD6Bnzq",
        "outputId": "a9fdb161-1508-4285-fdde-2c18939eb9d2"
      },
      "outputs": [
        {
          "output_type": "stream",
          "name": "stdout",
          "text": [
            "Downloading http://ufldl.stanford.edu/housenumbers/train_32x32.mat to ./data/train_32x32.mat\n"
          ]
        },
        {
          "output_type": "stream",
          "name": "stderr",
          "text": [
            "100%|██████████| 182040794/182040794 [00:12<00:00, 14447600.16it/s]\n"
          ]
        },
        {
          "output_type": "stream",
          "name": "stdout",
          "text": [
            "Downloading http://ufldl.stanford.edu/housenumbers/test_32x32.mat to ./data/test_32x32.mat\n"
          ]
        },
        {
          "output_type": "stream",
          "name": "stderr",
          "text": [
            "100%|██████████| 64275384/64275384 [00:05<00:00, 11526035.96it/s]\n"
          ]
        }
      ],
      "source": [
        "import torch\n",
        "import torchvision\n",
        "import torchvision.transforms as transforms\n",
        "import torch.nn as nn\n",
        "import torch.optim as optim\n",
        "from torchvision import models\n",
        "from torch.utils.data import Subset\n",
        "from sklearn.metrics import accuracy_score\n",
        "\n",
        "# Define transformations\n",
        "transform = transforms.Compose([\n",
        "    transforms.ToTensor(),\n",
        "    transforms.Normalize((0.5, 0.5, 0.5), (0.5, 0.5, 0.5))\n",
        "])\n",
        "\n",
        "# Load SVHN dataset\n",
        "trainset = torchvision.datasets.SVHN(root='./data', split='train', download=True, transform=transform)\n",
        "testset = torchvision.datasets.SVHN(root='./data', split='test', download=True, transform=transform)\n",
        "\n",
        "# Create a subset of the dataset (25%)\n",
        "subset_indices = torch.randperm(len(trainset))[:len(trainset)//4]\n",
        "trainset_subset = Subset(trainset, subset_indices)\n",
        "\n",
        "# Define dataloaders\n",
        "trainloader = torch.utils.data.DataLoader(trainset_subset, batch_size=32, shuffle=True)\n",
        "testloader = torch.utils.data.DataLoader(testset, batch_size=32, shuffle=False)\n",
        "\n",
        "# Function to define model, loss function, and optimizer\n",
        "def initialize_model(model_name, num_classes):\n",
        "    if model_name == 'LeNet':\n",
        "        model = models.LeNet()\n",
        "    elif model_name == 'AlexNet':\n",
        "        model = models.alexnet()\n",
        "    elif model_name == 'VGG':\n",
        "        model = models.vgg16()\n",
        "    elif model_name == 'ResNet18':\n",
        "        model = models.resnet18()\n",
        "    elif model_name == 'ResNet50':\n",
        "        model = models.resnet50()\n",
        "    elif model_name == 'ResNet101':\n",
        "        model = models.resnet101()\n",
        "    else:\n",
        "        raise ValueError(\"Unsupported model architecture\")\n",
        "\n",
        "    num_ftrs = model.fc.in_features\n",
        "    model.fc = nn.Linear(num_ftrs, num_classes)\n",
        "\n",
        "    return model\n",
        "\n",
        "# Function to train the model\n",
        "def train_model(model, criterion, optimizer, num_epochs=5):\n",
        "    for epoch in range(num_epochs):\n",
        "        model.train()\n",
        "        running_loss = 0.0\n",
        "        for inputs, labels in trainloader:\n",
        "            inputs, labels = inputs.cuda(), labels.cuda()\n",
        "            optimizer.zero_grad()\n",
        "            outputs = model(inputs)\n",
        "            loss = criterion(outputs, labels)\n",
        "            loss.backward()\n",
        "            optimizer.step()\n",
        "            running_loss += loss.item()\n",
        "        print(f\"Epoch {epoch+1}/{num_epochs}, Loss: {running_loss/len(trainloader)}\")\n",
        "\n",
        "# Function to evaluate the model\n",
        "def evaluate_model(model):\n",
        "    model.eval()\n",
        "    predictions, true_labels = [], []\n",
        "    with torch.no_grad():\n",
        "        for inputs, labels in testloader:\n",
        "            inputs, labels = inputs.cuda(), labels.cuda()\n",
        "            outputs = model(inputs)\n",
        "            _, predicted = torch.max(outputs, 1)\n",
        "            predictions.extend(predicted.cpu().numpy())\n",
        "            true_labels.extend(labels.cpu().numpy())\n",
        "    accuracy = accuracy_score(true_labels, predictions)\n",
        "    print(f\"Test Accuracy: {accuracy}\")\n"
      ]
    },
    {
      "cell_type": "markdown",
      "source": [
        "ResNet50"
      ],
      "metadata": {
        "id": "0WLGIkzCDLLl"
      }
    },
    {
      "cell_type": "code",
      "source": [
        "model_name = 'ResNet50'\n",
        "num_classes = 10\n",
        "model = initialize_model(model_name, num_classes).cuda()\n",
        "\n",
        "# Define loss function and optimizer\n",
        "criterion = nn.CrossEntropyLoss()\n",
        "optimizer = optim.SGD(model.parameters(), lr=0.001, momentum=0.9)\n",
        "\n",
        "# Train the model\n",
        "train_model(model, criterion, optimizer, num_epochs=2)\n",
        "\n",
        "# Evaluate the model\n",
        "evaluate_model(model)"
      ],
      "metadata": {
        "colab": {
          "base_uri": "https://localhost:8080/"
        },
        "id": "bX6B36QnBqsk",
        "outputId": "876c4921-4429-45ff-d5e9-c987b3493e9e"
      },
      "execution_count": 4,
      "outputs": [
        {
          "output_type": "stream",
          "name": "stdout",
          "text": [
            "Epoch 1/2, Loss: 2.5852946234415133\n",
            "Epoch 2/2, Loss: 2.273663561797683\n",
            "Test Accuracy: 0.30954210202827287\n"
          ]
        }
      ]
    },
    {
      "cell_type": "markdown",
      "source": [
        "ResNet101"
      ],
      "metadata": {
        "id": "wtETzSatDRpQ"
      }
    },
    {
      "cell_type": "code",
      "source": [
        "model_name = 'ResNet101'\n",
        "num_classes = 10\n",
        "model = initialize_model(model_name, num_classes).cuda()\n",
        "\n",
        "# Define loss function and optimizer\n",
        "criterion = nn.CrossEntropyLoss()\n",
        "optimizer = optim.SGD(model.parameters(), lr=0.001, momentum=0.9)\n",
        "\n",
        "# Train the model\n",
        "train_model(model, criterion, optimizer, num_epochs=2)\n",
        "\n",
        "# Evaluate the model\n",
        "evaluate_model(model)"
      ],
      "metadata": {
        "colab": {
          "base_uri": "https://localhost:8080/"
        },
        "id": "cTQ4Np1ZCioT",
        "outputId": "cdc256b4-8781-4e9e-cec9-51e2e9fd0ba9"
      },
      "execution_count": 5,
      "outputs": [
        {
          "output_type": "stream",
          "name": "stdout",
          "text": [
            "Epoch 1/2, Loss: 2.5944548518661845\n",
            "Epoch 2/2, Loss: 2.34894856420487\n",
            "Test Accuracy: 0.27178088506453596\n"
          ]
        }
      ]
    },
    {
      "cell_type": "markdown",
      "source": [
        "ResNet18"
      ],
      "metadata": {
        "id": "BzVfpo4GDVea"
      }
    },
    {
      "cell_type": "code",
      "source": [
        "model_name = 'ResNet18'\n",
        "num_classes = 10\n",
        "model = initialize_model(model_name, num_classes).cuda()\n",
        "\n",
        "# Define loss function and optimizer\n",
        "criterion = nn.CrossEntropyLoss()\n",
        "optimizer = optim.SGD(model.parameters(), lr=0.001, momentum=0.9)\n",
        "\n",
        "# Train the model\n",
        "train_model(model, criterion, optimizer, num_epochs=2)\n",
        "\n",
        "# Evaluate the model\n",
        "evaluate_model(model)"
      ],
      "metadata": {
        "colab": {
          "base_uri": "https://localhost:8080/"
        },
        "id": "M1wFn6ZKCi3k",
        "outputId": "3c2a70fb-59e9-4b7e-a82c-92f392a8ddca"
      },
      "execution_count": 6,
      "outputs": [
        {
          "output_type": "stream",
          "name": "stdout",
          "text": [
            "Epoch 1/2, Loss: 1.6936025667356986\n",
            "Epoch 2/2, Loss: 0.7759212194624996\n",
            "Test Accuracy: 0.770858942839582\n"
          ]
        }
      ]
    },
    {
      "cell_type": "markdown",
      "source": [
        "LeNet"
      ],
      "metadata": {
        "id": "_0q_hM0JDaLC"
      }
    },
    {
      "cell_type": "code",
      "source": [
        "import torch\n",
        "import torch.nn as nn\n",
        "import torch.nn.functional as F\n",
        "\n",
        "class LeNet5(nn.Module):\n",
        "    def __init__(self, num_classes=10, input_channels=3):\n",
        "        super(LeNet5, self).__init__()\n",
        "        self.conv1 = nn.Conv2d(input_channels, 6, kernel_size=5)\n",
        "        self.conv2 = nn.Conv2d(6, 16, kernel_size=5)\n",
        "        self.fc1 = nn.Linear(16*5*5, 120)\n",
        "        self.fc2 = nn.Linear(120, 84)\n",
        "        self.fc3 = nn.Linear(84, num_classes)\n",
        "\n",
        "    def forward(self, x):\n",
        "        x = F.relu(self.conv1(x))\n",
        "        x = F.max_pool2d(x, 2)\n",
        "        x = F.relu(self.conv2(x))\n",
        "        x = F.max_pool2d(x, 2)\n",
        "        x = x.view(x.size(0), -1)\n",
        "        x = F.relu(self.fc1(x))\n",
        "        x = F.relu(self.fc2(x))\n",
        "        x = self.fc3(x)\n",
        "        return x\n",
        "\n",
        "def initialize_model(model_name, num_classes, input_channels=3):\n",
        "    if model_name == 'LeNet-5':\n",
        "        return LeNet5(num_classes, input_channels)\n",
        "    else:\n",
        "        raise ValueError(\"Unsupported model architecture\")\n",
        "\n",
        "# Now you can use the provided code with LeNet-5 model\n",
        "model_name = 'LeNet-5'\n",
        "num_classes = 10\n",
        "input_channels = 3  # For RGB images\n",
        "model = initialize_model(model_name, num_classes, input_channels).cuda()\n",
        "\n",
        "# Define loss function and optimizer\n",
        "criterion = nn.CrossEntropyLoss()\n",
        "optimizer = optim.SGD(model.parameters(), lr=0.001, momentum=0.9)\n",
        "\n",
        "# Train the model\n",
        "train_model(model, criterion, optimizer, num_epochs=2)\n",
        "\n",
        "# Evaluate the model\n",
        "evaluate_model(model)\n"
      ],
      "metadata": {
        "colab": {
          "base_uri": "https://localhost:8080/"
        },
        "id": "K5LFGexFByLO",
        "outputId": "e1b489f8-1549-4194-81d7-2b8daec06800"
      },
      "execution_count": 9,
      "outputs": [
        {
          "output_type": "stream",
          "name": "stdout",
          "text": [
            "Epoch 1/2, Loss: 2.2609799573974874\n",
            "Epoch 2/2, Loss: 2.236764294106715\n",
            "Test Accuracy: 0.1958743085433313\n"
          ]
        }
      ]
    },
    {
      "cell_type": "markdown",
      "source": [
        "AlexNet"
      ],
      "metadata": {
        "id": "_nnY-T_cfGiW"
      }
    },
    {
      "cell_type": "code",
      "source": [
        "import torch\n",
        "import torch.nn as nn\n",
        "import torch.optim as optim\n",
        "import torchvision\n",
        "from torchvision import datasets, transforms\n",
        "from torch.utils.data import DataLoader, SubsetRandomSampler\n",
        "from sklearn.metrics import accuracy_score\n",
        "from sklearn.model_selection import train_test_split\n",
        "\n",
        "# Define transforms for the dataset\n",
        "transform = transforms.Compose([\n",
        "    transforms.Resize((224, 224)),\n",
        "    transforms.ToTensor(),\n",
        "    transforms.Normalize((0.5, 0.5, 0.5), (0.5, 0.5, 0.5))\n",
        "])\n",
        "\n",
        "# Load the SVHN dataset\n",
        "full_dataset = datasets.SVHN(root='./data', split='train', download=True, transform=transform)\n",
        "\n",
        "# Split the dataset into training and testing sets\n",
        "train_indices, test_indices = train_test_split(range(len(full_dataset)), test_size=0.75, random_state=42)\n",
        "\n",
        "# Define data loaders for the reduced dataset\n",
        "train_loader = DataLoader(full_dataset, batch_size=64, sampler=SubsetRandomSampler(train_indices))\n",
        "test_loader = DataLoader(full_dataset, batch_size=64, sampler=SubsetRandomSampler(test_indices))\n",
        "\n",
        "# Define the AlexNet model\n",
        "class AlexNet(nn.Module):\n",
        "    def __init__(self, num_classes=10):\n",
        "        super(AlexNet, self).__init__()\n",
        "        self.features = nn.Sequential(\n",
        "            nn.Conv2d(3, 64, kernel_size=11, stride=4, padding=2),\n",
        "            nn.ReLU(inplace=True),\n",
        "            nn.MaxPool2d(kernel_size=3, stride=2),\n",
        "            nn.Conv2d(64, 192, kernel_size=5, padding=2),\n",
        "            nn.ReLU(inplace=True),\n",
        "            nn.MaxPool2d(kernel_size=3, stride=2),\n",
        "            nn.Conv2d(192, 384, kernel_size=3, padding=1),\n",
        "            nn.ReLU(inplace=True),\n",
        "            nn.Conv2d(384, 256, kernel_size=3, padding=1),\n",
        "            nn.ReLU(inplace=True),\n",
        "            nn.Conv2d(256, 256, kernel_size=3, padding=1),\n",
        "            nn.ReLU(inplace=True),\n",
        "            nn.MaxPool2d(kernel_size=3, stride=2),\n",
        "        )\n",
        "        self.avgpool = nn.AdaptiveAvgPool2d((6, 6))\n",
        "        self.classifier = nn.Sequential(\n",
        "            nn.Dropout(),\n",
        "            nn.Linear(256 * 6 * 6, 4096),\n",
        "            nn.ReLU(inplace=True),\n",
        "            nn.Dropout(),\n",
        "            nn.Linear(4096, 4096),\n",
        "            nn.ReLU(inplace=True),\n",
        "            nn.Linear(4096, num_classes),\n",
        "            nn.Softmax(dim=1)\n",
        "        )\n",
        "\n",
        "    def forward(self, x):\n",
        "        x = self.features(x)\n",
        "        x = self.avgpool(x)\n",
        "        x = torch.flatten(x, 1)\n",
        "        x = self.classifier(x)\n",
        "        return x\n",
        "\n",
        "# Initialize the model, loss function, and optimizer\n",
        "model = AlexNet(num_classes=10)\n",
        "criterion = nn.CrossEntropyLoss()\n",
        "optimizer = optim.Adam(model.parameters(), lr=0.001)\n",
        "\n",
        "# Move model to GPU if available\n",
        "device = torch.device(\"cuda\" if torch.cuda.is_available() else \"cpu\")\n",
        "model.to(device)\n",
        "\n",
        "# Training loop\n",
        "for epoch in range(2):  # Number of epochs\n",
        "    model.train()\n",
        "    running_loss = 0.0\n",
        "    for i, data in enumerate(train_loader, 0):\n",
        "        inputs, labels = data[0].to(device), data[1].to(device)\n",
        "\n",
        "        optimizer.zero_grad()\n",
        "\n",
        "        outputs = model(inputs)\n",
        "        loss = criterion(outputs, labels)\n",
        "        loss.backward()\n",
        "        optimizer.step()\n",
        "\n",
        "        running_loss += loss.item()\n",
        "        if i % 100 == 99:    # Print every 100 mini-batches\n",
        "            print('[%d, %5d] loss: %.3f' %\n",
        "                  (epoch + 1, i + 1, running_loss / 100))\n",
        "            running_loss = 0.0\n",
        "\n",
        "print('Finished Training')\n",
        "\n",
        "# Evaluation\n",
        "model.eval()\n",
        "predictions = []\n",
        "true_labels = []\n",
        "with torch.no_grad():\n",
        "    for data in test_loader:\n",
        "        inputs, labels = data[0].to(device), data[1].to(device)\n",
        "        outputs = model(inputs)\n",
        "        _, predicted = torch.max(outputs, 1)\n",
        "        predictions.extend(predicted.cpu().numpy())\n",
        "        true_labels.extend(labels.cpu().numpy())\n",
        "\n",
        "accuracy = accuracy_score(true_labels, predictions)\n",
        "print('Accuracy on test set: %.2f%%' % (accuracy * 100))\n",
        ""
      ],
      "metadata": {
        "colab": {
          "base_uri": "https://localhost:8080/"
        },
        "id": "DVu19Tq_D8cd",
        "outputId": "98be93fb-6ec4-44cd-ed29-ef66571b8d8a"
      },
      "execution_count": 1,
      "outputs": [
        {
          "output_type": "stream",
          "name": "stdout",
          "text": [
            "Using downloaded and verified file: ./data/train_32x32.mat\n",
            "[1,   100] loss: 2.262\n",
            "[1,   200] loss: 2.279\n",
            "[2,   100] loss: 2.266\n",
            "[2,   200] loss: 2.269\n",
            "Finished Training\n",
            "Accuracy on test set: 18.79%\n"
          ]
        }
      ]
    },
    {
      "cell_type": "code",
      "source": [],
      "metadata": {
        "id": "VxNUWoB1eVcO"
      },
      "execution_count": null,
      "outputs": []
    }
  ]
}